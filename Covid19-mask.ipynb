{
 "cells": [
  {
   "cell_type": "code",
   "execution_count": null,
   "metadata": {},
   "outputs": [],
   "source": []
  },
  {
   "cell_type": "code",
   "execution_count": null,
   "metadata": {},
   "outputs": [],
   "source": [
    "def detectmask_predict(frame, face_net, mask_net):\n",
    "    (height, weight) = frame.shape[:2]\n",
    "    blob = cv2.dnn.blobFromImage(frame, 1.0, (224, 224), (104.0, 177.0, 123.0))\n",
    "    \n",
    "    face_net.setInput(blob)\n",
    "    detections = face_net.forward()\n",
    "    \n",
    "    faces = []\n",
    "    locs = []\n",
    "    preds = []\n",
    "    \n",
    "    for n in range(0, detections.shape[2]):\n",
    "        confidence = detections[0, 0, n, 2]\n",
    "        \n",
    "        if confidence > 0.5:\n",
    "            box = detections[0, 0, n, 3:7] * np.array([weight, height, weight, height])\n",
    "            (start_x, start_y, end_x, end_y) = box.astype(\"int\")\n",
    "            \n",
    "            (start_x, start_y) = (max(0, start_x), max(0, start_y))\n",
    "            (end_x, end_y) = (min(weight - 1, end_x), min(height - 1, end_y))\n",
    "            \n",
    "            face = frame[start_y: end_y, start_x: end_x]\n",
    "            face = cv2.cvtColor(face, cv2.COLOR_BGR2RGB)\n",
    "            face = cv2.resize(face, (224, 224))\n",
    "            face = preprocess_input(img_to_array(face))\n",
    "            \n",
    "            faces.append(face)\n",
    "            locs.append((start_x, start_y, end_x, end_y))\n",
    "            \n",
    "    # only make predictions if at least one face detected\n",
    "    if len(faces) > 0:\n",
    "        faces = np.array(faces, dtype=\"float32\")\n",
    "        preds = mask_net.predict(faces, batch_size=batch_s)\n",
    "        \n",
    "    # returns a 2-tuple of the face locations\n",
    "    return (locs, preds)"
   ]
  },
  {
   "cell_type": "code",
   "execution_count": null,
   "metadata": {},
   "outputs": [],
   "source": [
    "prototxt_path = \"face_detector/deploy.prototxt\"\n",
    "weights_path = \"face_detector/res10_300x300_ssd_iter_140000.caffemodel\"\n",
    "facenet = cv2.dnn.readNet(prototxt_path, weights_path)"
   ]
  },
  {
   "cell_type": "code",
   "execution_count": null,
   "metadata": {},
   "outputs": [],
   "source": [
    "masknet = load_model(\"mask_detector.model\")\n"
   ]
  },
  {
   "cell_type": "code",
   "execution_count": null,
   "metadata": {},
   "outputs": [],
   "source": []
  },
  {
   "cell_type": "code",
   "execution_count": null,
   "metadata": {},
   "outputs": [],
   "source": []
  },
  {
   "cell_type": "code",
   "execution_count": null,
   "metadata": {},
   "outputs": [],
   "source": []
  }
 ],
 "metadata": {
  "kernelspec": {
   "display_name": "Python 3",
   "language": "python",
   "name": "python3"
  },
  "language_info": {
   "codemirror_mode": {
    "name": "ipython",
    "version": 3
   },
   "file_extension": ".py",
   "mimetype": "text/x-python",
   "name": "python",
   "nbconvert_exporter": "python",
   "pygments_lexer": "ipython3",
   "version": "3.7.3"
  }
 },
 "nbformat": 4,
 "nbformat_minor": 2
}
