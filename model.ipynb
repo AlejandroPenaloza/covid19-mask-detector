{
 "cells": [
  {
   "cell_type": "code",
   "execution_count": null,
   "metadata": {},
   "outputs": [],
   "source": [
    "import os\n",
    "import cv2\n",
    "import time\n",
    "import numpy as np\n",
    "import matplotlib.pyplot as plt\n",
    "import imutils\n",
    "from imutils.video import VideoStream\n",
    "from imutils import paths\n",
    "from tensorflow.keras.models import Model\n",
    "from tensorflow.keras.layers import AveragePooling2D\n",
    "from tensorflow.keras.layers import Input\n",
    "from tensorflow.keras.layers import Flatten\n",
    "from tensorflow.keras.layers import Dense\n",
    "from tensorflow.keras.layers import Dropout\n",
    "from tensorflow.keras.applications import MobileNetV2\n",
    "from tensorflow.keras.applications.mobilenet_v2 import preprocess_input\n",
    "from tensorflow.keras.preprocessing.image import img_to_array\n",
    "from tensorflow.keras.preprocessing.image import load_img\n",
    "from tensorflow.keras.preprocessing.image import ImageDataGenerator\n",
    "from tensorflow.keras.utils import to_categorical\n",
    "from tensorflow.keras.optimizers import Adam\n",
    "from sklearn.preprocessing import LabelBinarizer\n",
    "from sklearn.model_selection import train_test_split\n",
    "from sklearn.metrics import classification_report"
   ]
  },
  {
   "cell_type": "markdown",
   "metadata": {},
   "source": [
    "## Creation of the predictive model"
   ]
  },
  {
   "cell_type": "code",
   "execution_count": null,
   "metadata": {},
   "outputs": [],
   "source": [
    "init_learn_rate = 1e-4\n",
    "epochs = 20\n",
    "batch = 32\n",
    "directory = \"/content/dataset\"\n",
    "categories = [\"with_mask\", \"without_mask\"]"
   ]
  },
  {
   "cell_type": "code",
   "execution_count": null,
   "metadata": {},
   "outputs": [],
   "source": [
    "print(\"Loading dataset images\")\n",
    "data = []\n",
    "labels = []"
   ]
  },
  {
   "cell_type": "code",
   "execution_count": null,
   "metadata": {},
   "outputs": [],
   "source": [
    "for category in categories:\n",
    "    path = os.path.join(directory, category)\n",
    "    \n",
    "    for image in os.listdir(path):\n",
    "        img_path = os.path.join(path, image)\n",
    "        nthimg = load_img(img_path, target_size=(224, 224))\n",
    "        nthimg = img_to_array(image)\n",
    "        nthimg = preprocess_input(image)\n",
    "        \n",
    "        data.append(nthimg)\n",
    "        labels.append(category) "
   ]
  },
  {
   "cell_type": "code",
   "execution_count": null,
   "metadata": {},
   "outputs": [],
   "source": [
    "# encoding labels\n",
    "labels = LabelBinarizer().fit_transform(labels)\n",
    "labels = to_categorical(labels)\n",
    "\n",
    "data = np.array(data, dtype=\"float32\")\n",
    "labels = np.array(labels)"
   ]
  },
  {
   "cell_type": "code",
   "execution_count": null,
   "metadata": {},
   "outputs": [],
   "source": [
    "(train_x, test_x, train_y, test_y) = train_test_split(\n",
    "data, labels, test_size=0.20, stratify=labels, random_state=42\n",
    ")"
   ]
  },
  {
   "cell_type": "code",
   "execution_count": null,
   "metadata": {},
   "outputs": [],
   "source": [
    "# training image generator for data augmentation\n",
    "d_aug = ImageDataGenerator(\n",
    "    rotation_range=20, zoom_range=0.15, width_shift_range=0.2,\n",
    "    height_shift_range=0.2, shear_range=0.15, \n",
    "    horizontal_flip=True, fill_mode=\"nearest\"\n",
    ")"
   ]
  },
  {
   "cell_type": "code",
   "execution_count": null,
   "metadata": {},
   "outputs": [],
   "source": [
    "# Loading MobileNetV2\n",
    "model_base = MobileNetV2(weights=\"imagenet\", include_top=False,\n",
    "                        input_tensor=Input(shape=(224, 224, 3)))"
   ]
  },
  {
   "cell_type": "code",
   "execution_count": null,
   "metadata": {},
   "outputs": [],
   "source": [
    "# model head\n",
    "model_head = AveragePooling2D(pool_size=(7, 7))(model_base.output)\n",
    "model_head = Flatten(name=\"flatten\")(model_head)\n",
    "model_head = Dense(128, activation=\"relu\")(model_head)\n",
    "model_head = Dropout(0.5)(model_head)\n",
    "model_head = Dense(2, activation=\"softmax\")(model_head)"
   ]
  },
  {
   "cell_type": "code",
   "execution_count": null,
   "metadata": {},
   "outputs": [],
   "source": [
    "# model building\n",
    "model = Model(inputs=model_base.input, outputs=model_head)"
   ]
  },
  {
   "cell_type": "code",
   "execution_count": null,
   "metadata": {},
   "outputs": [],
   "source": [
    "for layer in model_base.layers:\n",
    "    layer.trainable = False"
   ]
  },
  {
   "cell_type": "code",
   "execution_count": null,
   "metadata": {},
   "outputs": [],
   "source": [
    "# Compiling model\n",
    "opt = Adam(lr=init_learn_rate, decay=init_learn_rate / epochs)\n",
    "model.compile(\n",
    "    loss=\"binary_crossentropy\", optimizer=opt,\n",
    "    metrics=[\"accuracy\"]\n",
    ")"
   ]
  },
  {
   "cell_type": "code",
   "execution_count": null,
   "metadata": {},
   "outputs": [],
   "source": [
    "batch_s = 32\n",
    "head_train = model.fit(\n",
    "    d_aug.flow(train_x, train_y, batch_size=batch_s),\n",
    "    steps_per_epoch=len(train_x) // batch_s,\n",
    "    validation_data=(test_x, test_y),\n",
    "    validation_steps=len(test_x) // batch_s,\n",
    "    epochs = epochs\n",
    ")"
   ]
  },
  {
   "cell_type": "code",
   "execution_count": null,
   "metadata": {},
   "outputs": [],
   "source": [
    "# predictions on testing set\n",
    "pred_inds = model.predict(test_x, batch_size=batch_s)\n",
    "\n",
    "# label index with largest predicted probability\n",
    "pred_inds = np.argmax(pred_inds, axis=1)"
   ]
  },
  {
   "cell_type": "code",
   "execution_count": null,
   "metadata": {},
   "outputs": [],
   "source": [
    "# classification report\n",
    "classification_report(test_y.argmax(axis=1), pred_inds,\n",
    "                     target_names=lb.classes_)"
   ]
  },
  {
   "cell_type": "code",
   "execution_count": null,
   "metadata": {},
   "outputs": [],
   "source": [
    "# serialize the model to disk\n",
    "model.save(\"mask_detector.model\", save_format=\"h5\")"
   ]
  },
  {
   "cell_type": "code",
   "execution_count": null,
   "metadata": {},
   "outputs": [],
   "source": [
    "# training loss and accuracy plot\n",
    "num = epochs\n",
    "plt.style.use(\"ggplot\")\n",
    "plt.figure()\n",
    "plt.plot(np.arange(0, num), head_train.history[\"loss\"], label=\"train_loss\")\n",
    "plt.plot(np.arange(0, num), head_train.history[\"val_loss\"], label=\"val_loss\")\n",
    "plt.plot(np.arange(0, num), head_train.history[\"accuracy\"], label=\"train_acc\")\n",
    "plt.plot(np.arange(0, num), head_train.history[\"val_accuracy\"], label=\"val_acc\")\n",
    "plt.title(\"Training Loss and Accuracy\")\n",
    "plt.xlabel(\"Epoch number\")\n",
    "plt.ylabel(\"Loss/Accuracy\")\n",
    "plt.legend(loc=\"lower left\")"
   ]
  },
  {
   "cell_type": "code",
   "execution_count": null,
   "metadata": {},
   "outputs": [],
   "source": []
  }
 ],
 "metadata": {
  "kernelspec": {
   "display_name": "Python 3",
   "language": "python",
   "name": "python3"
  },
  "language_info": {
   "codemirror_mode": {
    "name": "ipython",
    "version": 3
   },
   "file_extension": ".py",
   "mimetype": "text/x-python",
   "name": "python",
   "nbconvert_exporter": "python",
   "pygments_lexer": "ipython3",
   "version": "3.7.3"
  }
 },
 "nbformat": 4,
 "nbformat_minor": 2
}
